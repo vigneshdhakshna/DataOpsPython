{
 "cells": [
  {
   "cell_type": "code",
   "execution_count": 1,
   "metadata": {},
   "outputs": [],
   "source": [
    "import pandas as pd\n",
    "import PyPDF2\n",
    "import pdfplumber\n"
   ]
  },
  {
   "cell_type": "code",
   "execution_count": 2,
   "metadata": {},
   "outputs": [
    {
     "name": "stderr",
     "output_type": "stream",
     "text": [
      "C:\\Users\\vignesh.dhakshnamoor\\AppData\\Local\\Temp\\ipykernel_1416\\1156527274.py:2: DtypeWarning: Columns (14,19,20,21) have mixed types. Specify dtype option on import or set low_memory=False.\n",
      "  tables = pd.read_csv(filePath)\n"
     ]
    }
   ],
   "source": [
    "filePath = \"C:/Users/vignesh.dhakshnamoor/Downloads/Badger State Revenue Report (22).csv\"  \n",
    "tables = pd.read_csv(filePath)\n",
    "NET_ENTERED_AMOUNT = tables.groupby('NATURAL_ACCOUNT')['NET_ENTERED_AMOUNT'].sum()\n",
    "NET_ENTERED_AMOUNT.to_excel(\"C:/Users/vignesh.dhakshnamoor/Downloads/NATURAL_ACCOUNT_SUM.xlsx\")\n",
    "\n",
    "pd.options.display.float_format = '{:.2f}'.format\n"
   ]
  },
  {
   "cell_type": "code",
   "execution_count": 4,
   "metadata": {},
   "outputs": [
    {
     "data": {
      "text/plain": [
       "'                    Badger Daylighting Corp InvoiceNumber 1001125\\nInvoice Date 06-07-2023\\nPayment Terms IMMEDIATE\\nAmountDue $   1,000.00\\nPlease see attached tickets for additional detail\\nBadger Daylighting Corp PO Box 95000, LB# 1627, Philadelphia, PA  19195-0001 Phone: (877) 322-3437\\nPlease direct all invoicing inquiries to accountsreceivable@badgerinc.com and remittances to remittance@badgerinc.com \\nBILL TO REMIT TO\\nLEGACY FOUNDATIONS                                     \\n530 TECHNOLOGY WAY, SUITE 300\\nIrvine, CA  92618\\n Badger Daylighting Corp\\nPO Box 95000\\nLB# 1627\\nPhiladelphia, PA 19195-0001\\nBank Routing # : 026013673  \\nAccount #: 03248177952\\nCustomer Number PO/Work Order AFE/Job Badger Sales Area\\n7293577\\nService\\nDateTicket # Unit # Item Description Qty Unit of \\nMeasureUnit Price Amount\\nTesting2023:06:07\\n17:30:241 Each 1,000.00 1,000.00\\nTotal Due(USD) 1,000.00'"
      ]
     },
     "execution_count": 4,
     "metadata": {},
     "output_type": "execute_result"
    }
   ],
   "source": [
    "pdf_path = 'C:/Users/vignesh.dhakshnamoor/Downloads/DefaultInvoice_US Invoice (7).pdf'\n",
    "\n",
    "with open(pdf_path,'rb') as file:\n",
    "    pdf_reader = PyPDF2.PdfReader(file)\n",
    "    number_pages = pdf_reader.pages\n",
    "    extracted_text = ''\n",
    "    for page in number_pages:\n",
    "        extracted_text += page.extract_text()\n",
    "\n",
    "extracted_text"
   ]
  },
  {
   "cell_type": "code",
   "execution_count": 5,
   "metadata": {},
   "outputs": [
    {
     "data": {
      "text/html": [
       "<div>\n",
       "<style scoped>\n",
       "    .dataframe tbody tr th:only-of-type {\n",
       "        vertical-align: middle;\n",
       "    }\n",
       "\n",
       "    .dataframe tbody tr th {\n",
       "        vertical-align: top;\n",
       "    }\n",
       "\n",
       "    .dataframe thead th {\n",
       "        text-align: right;\n",
       "    }\n",
       "</style>\n",
       "<table border=\"1\" class=\"dataframe\">\n",
       "  <thead>\n",
       "    <tr style=\"text-align: right;\">\n",
       "      <th></th>\n",
       "      <th>0</th>\n",
       "      <th>1</th>\n",
       "      <th>2</th>\n",
       "      <th>3</th>\n",
       "      <th>4</th>\n",
       "      <th>5</th>\n",
       "      <th>6</th>\n",
       "      <th>7</th>\n",
       "    </tr>\n",
       "  </thead>\n",
       "  <tbody>\n",
       "    <tr>\n",
       "      <th>0</th>\n",
       "      <td>Service\\nDate</td>\n",
       "      <td>Ticket #</td>\n",
       "      <td>Unit #</td>\n",
       "      <td>Item Description</td>\n",
       "      <td>Qty</td>\n",
       "      <td>Unit of\\nMeasure</td>\n",
       "      <td>Unit Price</td>\n",
       "      <td>Amount</td>\n",
       "    </tr>\n",
       "    <tr>\n",
       "      <th>1</th>\n",
       "      <td></td>\n",
       "      <td>None</td>\n",
       "      <td></td>\n",
       "      <td>None</td>\n",
       "      <td>1</td>\n",
       "      <td>None</td>\n",
       "      <td>1,000.00</td>\n",
       "      <td>None</td>\n",
       "    </tr>\n",
       "  </tbody>\n",
       "</table>\n",
       "</div>"
      ],
      "text/plain": [
       "               0         1       2                 3    4                 5  \\\n",
       "0  Service\\nDate  Ticket #  Unit #  Item Description  Qty  Unit of\\nMeasure   \n",
       "1                     None                      None    1              None   \n",
       "\n",
       "            6       7  \n",
       "0  Unit Price  Amount  \n",
       "1    1,000.00    None  "
      ]
     },
     "execution_count": 5,
     "metadata": {},
     "output_type": "execute_result"
    }
   ],
   "source": [
    "\n",
    "with pdfplumber.open(pdf_path) as pdf:\n",
    "    # Iterate over each page in the PDF\n",
    "    for page_number, page in enumerate(pdf.pages, 1):\n",
    "        # Extract tables from the page\n",
    "        tables = page.extract_tables()\n",
    "        df = pd.DataFrame(tables[2])\n",
    "\n",
    "df = pd.DataFrame(tables[2])\n",
    "df"
   ]
  },
  {
   "cell_type": "code",
   "execution_count": null,
   "metadata": {},
   "outputs": [],
   "source": []
  }
 ],
 "metadata": {
  "kernelspec": {
   "display_name": "DataOpsPython",
   "language": "python",
   "name": "python3"
  },
  "language_info": {
   "codemirror_mode": {
    "name": "ipython",
    "version": 3
   },
   "file_extension": ".py",
   "mimetype": "text/x-python",
   "name": "python",
   "nbconvert_exporter": "python",
   "pygments_lexer": "ipython3",
   "version": "3.11.4"
  },
  "orig_nbformat": 4
 },
 "nbformat": 4,
 "nbformat_minor": 2
}
